{
 "cells": [
  {
   "cell_type": "code",
   "execution_count": null,
   "id": "474aa61d",
   "metadata": {},
   "outputs": [],
   "source": [
    "!pip install matplotlib scipy\n",
    "\n",
    "import numpy as np\n",
    "import matplotlib.pyplot as plt\n",
    "from scipy import interpolate"
   ]
  },
  {
   "cell_type": "code",
   "execution_count": null,
   "id": "3c350c49",
   "metadata": {},
   "outputs": [],
   "source": [
    "defrzh_low=\"2.40-2.36-4.13\t2.06-2.28-4.04\t1.9-2.24-3.95\t1.79-2.20-3.90\t1.68-2.14-3.84\t1.60-2.10-3.83\t1.54-2.06-3.87\t1.49-2.04-4.04\t2.01-2.04-3.95\t1.85-1.99-3.88\t1.57-1.89-3.86\t1.51-1.85-4.04\t2.26-1.94-3.96\t1.96-1.89-3.89\t1.81-1.87-3.84\t1.69-1.83-3.80\t1.62-1.80-3.87\t1.54-1.77-4.03\t2.21-1.85-3.91\t1.92-1.80-3.84\t1.77-1.77-3.82\t1.56-1.71-4.03\t2.16-1.76-3.84\t1.88-1.73-3.84\t1.75-1.71-3.85\t1.62-1.67-4.01\t2.12-1.71-3.86\t1.85-1.67-3.85\t1.71-1.65-4.10\t2.08-1.65-3.90\t1.81-1.63-4.06\".split(\"\\t\")\n",
    "# validation loss for each ratio combination after finishing running frdezh_trade_off.sh.\n",
    "# can be collected at the end of each log file.\n",
    "\n",
    "x = [float(i.split(\"-\")[0]) for i in defrzh_low]\n",
    "y = [float(i.split(\"-\")[1]) for i in defrzh_low]\n",
    "z = [float(i.split(\"-\")[2]) for i in defrzh_low]\n",
    "\n",
    "xi = np.linspace(min(x), max(x), 100)\n",
    "yi = np.linspace(min(y), max(y), 100)\n",
    "\n",
    "X, Y = np.meshgrid(xi, yi)\n",
    "\n",
    "rbf = interpolate.Rbf(x, y, z, function='linear')\n",
    "Z = rbf(X, Y)\n",
    "\n",
    "fig = plt.figure(dpi=100)  \n",
    "ax3 = plt.axes(projection='3d')\n",
    "\n",
    "ax3.plot(1.3,1.3,1.3)\n",
    "\n",
    "ax3.scatter(x, y, z,cmap='rainbow')\n",
    "ax3.plot_surface(X, Y, Z,cmap='rainbow')\n",
    "ax3.contour(X,Y,Z, zdim='z',offset=1.3,cmap='rainbow')   \n",
    "\n",
    "ax3.set_xlabel('DE Cross-Entropy')\n",
    "ax3.set_ylabel('FR Cross-Entropy')\n",
    "ax3.set_zlabel('ZH Cross-Entropy')\n",
    "\n",
    "\n",
    "plt.tight_layout()\n",
    "plt.show()\n"
   ]
  }
 ],
 "metadata": {
  "kernelspec": {
   "display_name": "Python 3 (ipykernel)",
   "language": "python",
   "name": "python3"
  },
  "language_info": {
   "codemirror_mode": {
    "name": "ipython",
    "version": 3
   },
   "file_extension": ".py",
   "mimetype": "text/x-python",
   "name": "python",
   "nbconvert_exporter": "python",
   "pygments_lexer": "ipython3",
   "version": "3.8.15"
  }
 },
 "nbformat": 4,
 "nbformat_minor": 5
}
